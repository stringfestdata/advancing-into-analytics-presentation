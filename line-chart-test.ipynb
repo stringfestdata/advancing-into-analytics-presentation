{
 "cells": [
  {
   "cell_type": "code",
   "execution_count": 6,
   "id": "unexpected-warner",
   "metadata": {},
   "outputs": [
    {
     "data": {
      "text/html": [
       "<div>\n",
       "<style scoped>\n",
       "    .dataframe tbody tr th:only-of-type {\n",
       "        vertical-align: middle;\n",
       "    }\n",
       "\n",
       "    .dataframe tbody tr th {\n",
       "        vertical-align: top;\n",
       "    }\n",
       "\n",
       "    .dataframe thead th {\n",
       "        text-align: right;\n",
       "    }\n",
       "</style>\n",
       "<table border=\"1\" class=\"dataframe\">\n",
       "  <thead>\n",
       "    <tr style=\"text-align: right;\">\n",
       "      <th></th>\n",
       "      <th>manhattan</th>\n",
       "      <th>brooklyn</th>\n",
       "      <th>queens</th>\n",
       "      <th>bronx</th>\n",
       "      <th>staten-island</th>\n",
       "    </tr>\n",
       "    <tr>\n",
       "      <th>year</th>\n",
       "      <th></th>\n",
       "      <th></th>\n",
       "      <th></th>\n",
       "      <th></th>\n",
       "      <th></th>\n",
       "    </tr>\n",
       "  </thead>\n",
       "  <tbody>\n",
       "    <tr>\n",
       "      <th>1800</th>\n",
       "      <td>60515</td>\n",
       "      <td>5740</td>\n",
       "      <td>6642</td>\n",
       "      <td>1755</td>\n",
       "      <td>4563</td>\n",
       "    </tr>\n",
       "    <tr>\n",
       "      <th>1810</th>\n",
       "      <td>96373</td>\n",
       "      <td>8303</td>\n",
       "      <td>7444</td>\n",
       "      <td>2267</td>\n",
       "      <td>5347</td>\n",
       "    </tr>\n",
       "    <tr>\n",
       "      <th>1820</th>\n",
       "      <td>123706</td>\n",
       "      <td>11187</td>\n",
       "      <td>8246</td>\n",
       "      <td>2782</td>\n",
       "      <td>6135</td>\n",
       "    </tr>\n",
       "    <tr>\n",
       "      <th>1830</th>\n",
       "      <td>202589</td>\n",
       "      <td>20535</td>\n",
       "      <td>9049</td>\n",
       "      <td>3023</td>\n",
       "      <td>7082</td>\n",
       "    </tr>\n",
       "    <tr>\n",
       "      <th>1840</th>\n",
       "      <td>312710</td>\n",
       "      <td>47613</td>\n",
       "      <td>14480</td>\n",
       "      <td>5346</td>\n",
       "      <td>10965</td>\n",
       "    </tr>\n",
       "  </tbody>\n",
       "</table>\n",
       "</div>"
      ],
      "text/plain": [
       "      manhattan  brooklyn  queens  bronx  staten-island\n",
       "year                                                   \n",
       "1800      60515      5740    6642   1755           4563\n",
       "1810      96373      8303    7444   2267           5347\n",
       "1820     123706     11187    8246   2782           6135\n",
       "1830     202589     20535    9049   3023           7082\n",
       "1840     312710     47613   14480   5346          10965"
      ]
     },
     "execution_count": 6,
     "metadata": {},
     "output_type": "execute_result"
    }
   ],
   "source": [
    "import pandas as pd\n",
    "import xlsxwriter\n",
    "import seaborn as sns\n",
    "\n",
    "nyc = pd.read_excel('nyc-pop.xlsx', index_col='year')\n",
    "\n",
    "nyc.head()"
   ]
  },
  {
   "cell_type": "code",
   "execution_count": 7,
   "id": "normal-interest",
   "metadata": {},
   "outputs": [
    {
     "data": {
      "text/plain": [
       "<AxesSubplot:xlabel='year'>"
      ]
     },
     "execution_count": 7,
     "metadata": {},
     "output_type": "execute_result"
    },
    {
     "data": {
      "image/png": "[encoded data removed]",
      "text/plain": [
       "<Figure size 432x288 with 1 Axes>"
      ]
     },
     "metadata": {
      "needs_background": "light"
     },
     "output_type": "display_data"
    }
   ],
   "source": [
    "sns.lineplot(data=nyc)"
   ]
  },
  {
   "cell_type": "code",
   "execution_count": 8,
   "id": "unnecessary-scale",
   "metadata": {},
   "outputs": [],
   "source": [
    "# Set Pandas engine to xlsxwriter\n",
    "writer = pd.ExcelWriter('nyc-trend.xlsx', engine='xlsxwriter')\n",
    "\n",
    "# Convert the dataframe to an XlsxWriter Excel object.\n",
    "nyc.to_excel(writer, sheet_name='Sheet1', index=False)\n",
    "\n",
    "# Get the xlsxwriter objects from the DataFrame writer object.\n",
    "workbook  = writer.book\n",
    "worksheet = writer.sheets['Sheet1']"
   ]
  },
  {
   "cell_type": "code",
   "execution_count": 9,
   "id": "aggregate-professional",
   "metadata": {},
   "outputs": [
    {
     "data": {
      "text/html": [
       "<div>\n",
       "<style scoped>\n",
       "    .dataframe tbody tr th:only-of-type {\n",
       "        vertical-align: middle;\n",
       "    }\n",
       "\n",
       "    .dataframe tbody tr th {\n",
       "        vertical-align: top;\n",
       "    }\n",
       "\n",
       "    .dataframe thead th {\n",
       "        text-align: right;\n",
       "    }\n",
       "</style>\n",
       "<table border=\"1\" class=\"dataframe\">\n",
       "  <thead>\n",
       "    <tr style=\"text-align: right;\">\n",
       "      <th></th>\n",
       "      <th>year</th>\n",
       "      <th>manhattan</th>\n",
       "      <th>brooklyn</th>\n",
       "      <th>queens</th>\n",
       "      <th>bronx</th>\n",
       "      <th>staten-island</th>\n",
       "    </tr>\n",
       "  </thead>\n",
       "  <tbody>\n",
       "    <tr>\n",
       "      <th>0</th>\n",
       "      <td>1800</td>\n",
       "      <td>60515</td>\n",
       "      <td>5740</td>\n",
       "      <td>6642</td>\n",
       "      <td>1755</td>\n",
       "      <td>4563</td>\n",
       "    </tr>\n",
       "    <tr>\n",
       "      <th>1</th>\n",
       "      <td>1810</td>\n",
       "      <td>96373</td>\n",
       "      <td>8303</td>\n",
       "      <td>7444</td>\n",
       "      <td>2267</td>\n",
       "      <td>5347</td>\n",
       "    </tr>\n",
       "    <tr>\n",
       "      <th>2</th>\n",
       "      <td>1820</td>\n",
       "      <td>123706</td>\n",
       "      <td>11187</td>\n",
       "      <td>8246</td>\n",
       "      <td>2782</td>\n",
       "      <td>6135</td>\n",
       "    </tr>\n",
       "    <tr>\n",
       "      <th>3</th>\n",
       "      <td>1830</td>\n",
       "      <td>202589</td>\n",
       "      <td>20535</td>\n",
       "      <td>9049</td>\n",
       "      <td>3023</td>\n",
       "      <td>7082</td>\n",
       "    </tr>\n",
       "    <tr>\n",
       "      <th>4</th>\n",
       "      <td>1840</td>\n",
       "      <td>312710</td>\n",
       "      <td>47613</td>\n",
       "      <td>14480</td>\n",
       "      <td>5346</td>\n",
       "      <td>10965</td>\n",
       "    </tr>\n",
       "  </tbody>\n",
       "</table>\n",
       "</div>"
      ],
      "text/plain": [
       "   year  manhattan  brooklyn  queens  bronx  staten-island\n",
       "0  1800      60515      5740    6642   1755           4563\n",
       "1  1810      96373      8303    7444   2267           5347\n",
       "2  1820     123706     11187    8246   2782           6135\n",
       "3  1830     202589     20535    9049   3023           7082\n",
       "4  1840     312710     47613   14480   5346          10965"
      ]
     },
     "execution_count": 9,
     "metadata": {},
     "output_type": "execute_result"
    }
   ],
   "source": [
    "# Reset index\n",
    "nyc = nyc.reset_index()\n",
    "nyc.head()"
   ]
  },
  {
   "cell_type": "code",
   "execution_count": null,
   "id": "hawaiian-dallas",
   "metadata": {},
   "outputs": [],
   "source": [
    "nyc_chart = workbook.add_chart({'type': 'line'})\n",
    "max_row = nyc.shape[0]\n",
    "\n",
    "# [sheetname, first_row, first_col, last_row, last_col]\n",
    "\n",
    "\n",
    "nyc_chart.add_series({\n",
    "    'name':       ['Sheet1', 0, nyc.columns.get_loc('borough'), 0, nyc.columns.get_loc('borough')],\n",
    "    'categories': ['Sheet1', 1, 0, max_row, 0],\n",
    "    'values':     ['Sheet1', 1, 2, max_row, 2],\n",
    "})\n",
    "\n",
    "# Insert the chart into the worksheet.\n",
    "worksheet.insert_chart('G2', nyc_chart)\n",
    "\n",
    "writer.close()"
   ]
  }
 ],
 "metadata": {
  "kernelspec": {
   "display_name": "Python 3",
   "language": "python",
   "name": "python3"
  },
  "language_info": {
   "codemirror_mode": {
    "name": "ipython",
    "version": 3
   },
   "file_extension": ".py",
   "mimetype": "text/x-python",
   "name": "python",
   "nbconvert_exporter": "python",
   "pygments_lexer": "ipython3",
   "version": "3.7.9"
  }
 },
 "nbformat": 4,
 "nbformat_minor": 5
}
