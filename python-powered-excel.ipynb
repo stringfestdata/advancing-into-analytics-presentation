{
 "cells": [
  {
   "cell_type": "code",
   "execution_count": 1,
   "id": "quarterly-project",
   "metadata": {},
   "outputs": [],
   "source": [
    "import pandas as pd  # Data analysis\n",
    "\n",
    "import seaborn as sns  #Charts\n",
    "import matplotlib.pyplot as plt  #Charts\n",
    "\n",
    "import xlsxwriter  #Write to Excel\n"
   ]
  },
  {
   "cell_type": "code",
   "execution_count": 2,
   "id": "referenced-bradford",
   "metadata": {},
   "outputs": [
    {
     "data": {
      "text/html": [
       "<div>\n",
       "<style scoped>\n",
       "    .dataframe tbody tr th:only-of-type {\n",
       "        vertical-align: middle;\n",
       "    }\n",
       "\n",
       "    .dataframe tbody tr th {\n",
       "        vertical-align: top;\n",
       "    }\n",
       "\n",
       "    .dataframe thead th {\n",
       "        text-align: right;\n",
       "    }\n",
       "</style>\n",
       "<table border=\"1\" class=\"dataframe\">\n",
       "  <thead>\n",
       "    <tr style=\"text-align: right;\">\n",
       "      <th></th>\n",
       "      <th>borough</th>\n",
       "      <th>pop</th>\n",
       "      <th>size</th>\n",
       "    </tr>\n",
       "  </thead>\n",
       "  <tbody>\n",
       "    <tr>\n",
       "      <th>1</th>\n",
       "      <td>Brooklyn</td>\n",
       "      <td>2559903</td>\n",
       "      <td>70.82</td>\n",
       "    </tr>\n",
       "    <tr>\n",
       "      <th>3</th>\n",
       "      <td>Queens</td>\n",
       "      <td>2253858</td>\n",
       "      <td>108.53</td>\n",
       "    </tr>\n",
       "    <tr>\n",
       "      <th>2</th>\n",
       "      <td>Manhattan</td>\n",
       "      <td>1628706</td>\n",
       "      <td>22.83</td>\n",
       "    </tr>\n",
       "    <tr>\n",
       "      <th>0</th>\n",
       "      <td>The Bronx</td>\n",
       "      <td>1418207</td>\n",
       "      <td>42.10</td>\n",
       "    </tr>\n",
       "    <tr>\n",
       "      <th>4</th>\n",
       "      <td>Staten Island</td>\n",
       "      <td>476143</td>\n",
       "      <td>58.37</td>\n",
       "    </tr>\n",
       "  </tbody>\n",
       "</table>\n",
       "</div>"
      ],
      "text/plain": [
       "         borough      pop    size\n",
       "1       Brooklyn  2559903   70.82\n",
       "3         Queens  2253858  108.53\n",
       "2      Manhattan  1628706   22.83\n",
       "0      The Bronx  1418207   42.10\n",
       "4  Staten Island   476143   58.37"
      ]
     },
     "execution_count": 2,
     "metadata": {},
     "output_type": "execute_result"
    }
   ],
   "source": [
    "borough = ['The Bronx', 'Brooklyn', 'Manhattan', 'Queens', 'Staten Island']\n",
    "pop = [1418207, 2559903, 1628706, 2253858, 476143]\n",
    "size = [42.10, 70.82, 22.83, 108.53, 58.37]\n",
    "\n",
    "data = {\"borough\": borough, \"pop\": pop, \"size\": size}\n",
    "\n",
    "nyc = pd.DataFrame(data)\n",
    "\n",
    "# Sort from high to low\n",
    "nyc = nyc.sort_values(by='pop', ascending=False)\n",
    "\n",
    "nyc"
   ]
  },
  {
   "cell_type": "code",
   "execution_count": 3,
   "id": "warming-boating",
   "metadata": {},
   "outputs": [],
   "source": [
    "# Write to Excel from pandas, limited formatting\n",
    "nyc.to_excel('nyc-pandas.xlsx')"
   ]
  },
  {
   "cell_type": "markdown",
   "id": "civilian-tennis",
   "metadata": {},
   "source": [
    "## Writing to `xlsxwriter`\n",
    "\n",
    "This will let you format cells, add charts, etc. \n",
    "\n",
    "A few steps to write a `pandas` DataFrame to Excel with `xlsxwriter`:\n",
    "\n",
    "1. Set `pandas` engine to `xlsxwriter`\n",
    "2. Convert DataFrame to `xlsxwriter` object\n",
    "3. Get `xlsxwriter` workbook and worksheet objects from DataFrame writer object\n",
    "4. Save and close connection.\n"
   ]
  },
  {
   "cell_type": "code",
   "execution_count": 4,
   "id": "boxed-master",
   "metadata": {},
   "outputs": [],
   "source": [
    "# 1. Set Pandas engine to xlsxwriter\n",
    "writer = pd.ExcelWriter('nyc.xlsx', engine='xlsxwriter')\n",
    "\n",
    "# 2. Convert the dataframe to an XlsxWriter Excel object.\n",
    "nyc.to_excel(writer, sheet_name='Sheet1', index=False)\n",
    "\n",
    "# 3. Get the xlsxwriter objects from the DataFrame writer object.\n",
    "workbook  = writer.book\n",
    "worksheet = writer.sheets['Sheet1']"
   ]
  },
  {
   "cell_type": "markdown",
   "id": "considered-thanksgiving",
   "metadata": {},
   "source": [
    "If we were to open the workbook now, it would look like this:  \n",
    "\n",
    "\n",
    "<img src=\"images/nyc-start.png\" alt=\"NYC worksheet start\" style=\"width: 750px\"/>\n",
    "\n",
    "Let's make a few improvements, shall we?\n",
    "\n",
    "1. Widen column `A`\n",
    "2. Format column `B` in thousands\n",
    "3. Add charts (We'll do one Excel chart, one Python chart... why not?)\n"
   ]
  },
  {
   "cell_type": "markdown",
   "id": "impaired-server",
   "metadata": {},
   "source": [
    "## Format numbers\n",
    "\n",
    "We can use `xlsxwriter`'s `set_column()` method: \n",
    "\n",
    "```\n",
    "set_column(first_col, last_col, width, cell_format, options)\n",
    "```\n",
    "\n",
    "I will locate the position of each column by name in the DataFrame with the `get_loc()` method from `pandas`:"
   ]
  },
  {
   "cell_type": "code",
   "execution_count": 5,
   "id": "delayed-windows",
   "metadata": {},
   "outputs": [
    {
     "data": {
      "text/plain": [
       "0"
      ]
     },
     "execution_count": 5,
     "metadata": {},
     "output_type": "execute_result"
    }
   ],
   "source": [
    "# Get population index position\n",
    "borough_col = nyc.columns.get_loc('borough')\n",
    "borough_col\n",
    "\n",
    "# Python uses zero-based indexing"
   ]
  },
  {
   "cell_type": "code",
   "execution_count": 6,
   "id": "awful-wisconsin",
   "metadata": {},
   "outputs": [
    {
     "data": {
      "text/plain": [
       "1"
      ]
     },
     "execution_count": 6,
     "metadata": {},
     "output_type": "execute_result"
    }
   ],
   "source": [
    "# Get population index position\n",
    "\n",
    "pop_col = nyc.columns.get_loc('pop')\n",
    "pop_col"
   ]
  },
  {
   "cell_type": "code",
   "execution_count": 7,
   "id": "attractive-yacht",
   "metadata": {},
   "outputs": [
    {
     "data": {
      "text/plain": [
       "0"
      ]
     },
     "execution_count": 7,
     "metadata": {},
     "output_type": "execute_result"
    }
   ],
   "source": [
    "# Re-set width of Borough column\n",
    "# No auto-fit feature \n",
    "\n",
    "worksheet.set_column(borough_col, borough_col, 12)"
   ]
  },
  {
   "cell_type": "code",
   "execution_count": 8,
   "id": "supported-weather",
   "metadata": {},
   "outputs": [
    {
     "data": {
      "text/plain": [
       "0"
      ]
     },
     "execution_count": 8,
     "metadata": {},
     "output_type": "execute_result"
    }
   ],
   "source": [
    "# Set format of Population format to thousands\n",
    "\n",
    "thousands_format = workbook.add_format({'num_format':'#,##0'})\n",
    "worksheet.set_column(pop_col, pop_col, None, thousands_format)"
   ]
  },
  {
   "cell_type": "markdown",
   "id": "beneficial-humanity",
   "metadata": {},
   "source": [
    "## Add a chart using Excel\n",
    "\n",
    "1. Add chart type\n",
    "2. Add series: `[sheetname, first_row, first_col, last_row, last_col]`\n",
    "3. Add chart axes, titles, etc.\n",
    "4. Insert chart into plot "
   ]
  },
  {
   "cell_type": "code",
   "execution_count": 9,
   "id": "involved-corporation",
   "metadata": {},
   "outputs": [],
   "source": [
    "nyc_chart = workbook.add_chart({'type': 'column'})\n",
    "\n",
    "# Get total number of rows\n",
    "max_row = nyc.shape[0]\n",
    "\n",
    "\n",
    "# Don't include header data (\"Oth\" row)  in the chart\n",
    "nyc_chart.add_series({\n",
    "    'name':       'Borough',\n",
    "    'categories': ['Sheet1', 1, 0, max_row, 0],\n",
    "    'values':     ['Sheet1', 1, 1, max_row, 1],\n",
    "})\n",
    "\n",
    "# Set chart title\n",
    "nyc_chart.set_title({'name': 'NYC population by borough'})\n",
    "\n",
    "\n",
    "# Insert the chart into the worksheet.\n",
    "worksheet.insert_chart('G2', nyc_chart)\n"
   ]
  },
  {
   "cell_type": "markdown",
   "id": "neutral-potato",
   "metadata": {},
   "source": [
    "## Add a graph using `seaborn`\n",
    "\n",
    "1. Create plot in Python\n",
    "2. Add chart axes, titles, etc.\n",
    "3. Save image locally\n",
    "4. Insert it into Excel "
   ]
  },
  {
   "cell_type": "code",
   "execution_count": 10,
   "id": "exterior-costs",
   "metadata": {},
   "outputs": [
    {
     "data": {
      "image/png": "[encoded data removed]",
      "text/plain": [
       "<Figure size 432x288 with 1 Axes>"
      ]
     },
     "metadata": {
      "needs_background": "light"
     },
     "output_type": "display_data"
    }
   ],
   "source": [
    "sns.barplot(x='borough', y='pop', data=nyc, color='blue')\n",
    "plt.title('NYC population by borough')\n",
    "\n",
    "\n",
    "# Save the image\n",
    "plt.savefig('images/nyc-pop.png', dpi = (300))\n",
    "\n",
    "\n",
    "# Add the image to the workbook\n",
    "worksheet.insert_image('G20', 'nyc-pop.png')"
   ]
  },
  {
   "cell_type": "code",
   "execution_count": 11,
   "id": "corresponding-boards",
   "metadata": {},
   "outputs": [],
   "source": [
    "# Close workbook\n",
    "workbook.close()"
   ]
  }
 ],
 "metadata": {
  "kernelspec": {
   "display_name": "Python 3",
   "language": "python",
   "name": "python3"
  },
  "language_info": {
   "codemirror_mode": {
    "name": "ipython",
    "version": 3
   },
   "file_extension": ".py",
   "mimetype": "text/x-python",
   "name": "python",
   "nbconvert_exporter": "python",
   "pygments_lexer": "ipython3",
   "version": "3.7.9"
  }
 },
 "nbformat": 4,
 "nbformat_minor": 5
}
