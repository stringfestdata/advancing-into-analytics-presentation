{
 "cells": [
  {
   "cell_type": "code",
   "execution_count": 1,
   "id": "scheduled-oregon",
   "metadata": {},
   "outputs": [
    {
     "data": {
      "text/html": [
       "<div>\n",
       "<style scoped>\n",
       "    .dataframe tbody tr th:only-of-type {\n",
       "        vertical-align: middle;\n",
       "    }\n",
       "\n",
       "    .dataframe tbody tr th {\n",
       "        vertical-align: top;\n",
       "    }\n",
       "\n",
       "    .dataframe thead th {\n",
       "        text-align: right;\n",
       "    }\n",
       "</style>\n",
       "<table border=\"1\" class=\"dataframe\">\n",
       "  <thead>\n",
       "    <tr style=\"text-align: right;\">\n",
       "      <th></th>\n",
       "      <th>borough</th>\n",
       "      <th>pop</th>\n",
       "      <th>size</th>\n",
       "    </tr>\n",
       "  </thead>\n",
       "  <tbody>\n",
       "    <tr>\n",
       "      <th>1</th>\n",
       "      <td>Brooklyn</td>\n",
       "      <td>2559903</td>\n",
       "      <td>70.82</td>\n",
       "    </tr>\n",
       "    <tr>\n",
       "      <th>3</th>\n",
       "      <td>Queens</td>\n",
       "      <td>2253858</td>\n",
       "      <td>108.53</td>\n",
       "    </tr>\n",
       "    <tr>\n",
       "      <th>2</th>\n",
       "      <td>Manhattan</td>\n",
       "      <td>1628706</td>\n",
       "      <td>22.83</td>\n",
       "    </tr>\n",
       "    <tr>\n",
       "      <th>0</th>\n",
       "      <td>The Bronx</td>\n",
       "      <td>1418207</td>\n",
       "      <td>42.10</td>\n",
       "    </tr>\n",
       "    <tr>\n",
       "      <th>4</th>\n",
       "      <td>Staten Island</td>\n",
       "      <td>476143</td>\n",
       "      <td>58.37</td>\n",
       "    </tr>\n",
       "  </tbody>\n",
       "</table>\n",
       "</div>"
      ],
      "text/plain": [
       "         borough      pop    size\n",
       "1       Brooklyn  2559903   70.82\n",
       "3         Queens  2253858  108.53\n",
       "2      Manhattan  1628706   22.83\n",
       "0      The Bronx  1418207   42.10\n",
       "4  Staten Island   476143   58.37"
      ]
     },
     "execution_count": 1,
     "metadata": {},
     "output_type": "execute_result"
    }
   ],
   "source": [
    "import pandas as pd\n",
    "import seaborn as sns\n",
    "import xlsxwriter\n",
    "import matplotlib.pyplot as plt\n",
    "\n",
    "borough = ['The Bronx', 'Brooklyn', 'Manhattan', 'Queens', 'Staten Island']\n",
    "pop = [1418207, 2559903, 1628706, 2253858, 476143]\n",
    "size = [42.10, 70.82, 22.83, 108.53, 58.37]\n",
    "\n",
    "data = {\"borough\": borough, \"pop\": pop, \"size\": size}\n",
    "\n",
    "nyc = pd.DataFrame(data)\n",
    "\n",
    "# Sort from high to low\n",
    "nyc = nyc.sort_values(by='pop', ascending=False)\n",
    "\n",
    "nyc"
   ]
  },
  {
   "cell_type": "code",
   "execution_count": 2,
   "id": "dutch-utility",
   "metadata": {},
   "outputs": [],
   "source": [
    "\n",
    "\n",
    "size_col = nyc.columns.get_loc('size')\n",
    "\n",
    "borough_col = nyc.columns.get_loc('borough')\n",
    "\n",
    "max_row = nyc.shape[0]"
   ]
  },
  {
   "cell_type": "code",
   "execution_count": 3,
   "id": "light-astrology",
   "metadata": {},
   "outputs": [],
   "source": [
    "# Set Pandas engine to xlsxwriter\n",
    "writer = pd.ExcelWriter('nyc.xlsx', engine='xlsxwriter')\n",
    "\n",
    "# Convert the dataframe to an XlsxWriter Excel object.\n",
    "nyc.to_excel(writer, sheet_name='Sheet1', index=False)\n",
    "\n",
    "# Get the xlsxwriter objects from the DataFrame writer object.\n",
    "workbook  = writer.book\n",
    "worksheet = writer.sheets['Sheet1']"
   ]
  },
  {
   "cell_type": "code",
   "execution_count": 4,
   "id": "civil-instruction",
   "metadata": {},
   "outputs": [],
   "source": [
    "nyc_chart = workbook.add_chart({'type': 'column'})\n",
    "\n",
    "\n",
    "# sheetname, first_row, first_col, last_row, last_col]\n",
    "\n",
    "# Don't include header data in the chart\n",
    "nyc_chart.add_series({\n",
    "    'name':       'Borough',\n",
    "    'categories': ['Sheet1', 1, 0, max_row, 0],\n",
    "    'values':     ['Sheet1', 1, 1, max_row, 1],\n",
    "})\n",
    "\n",
    "# Set chart title\n",
    "nyc_chart.set_title({'name': 'Population by borough'})\n",
    "\n",
    "\n",
    "# Insert the chart into the worksheet.\n",
    "worksheet.insert_chart('G2', nyc_chart)\n"
   ]
  },
  {
   "cell_type": "code",
   "execution_count": 5,
   "id": "monetary-wallet",
   "metadata": {},
   "outputs": [
    {
     "data": {
      "text/plain": [
       "0"
      ]
     },
     "execution_count": 5,
     "metadata": {},
     "output_type": "execute_result"
    }
   ],
   "source": [
    "# Set a currency number format for a column.\n",
    "\n",
    "pop_column = list(nyc.columns).index('pop')\n",
    "\n",
    "\n",
    "num_format = workbook.add_format({'num_format': '#,##0'})\n",
    "\n",
    "# Start column position, end column position, column width, column format\n",
    "worksheet.set_column(pop_column, pop_column, None, num_format)"
   ]
  },
  {
   "cell_type": "code",
   "execution_count": 6,
   "id": "answering-linux",
   "metadata": {},
   "outputs": [],
   "source": [
    "# Close the Pandas Excel writer and output the Excel file.\n",
    "writer.save()"
   ]
  },
  {
   "cell_type": "code",
   "execution_count": null,
   "id": "forbidden-reasoning",
   "metadata": {},
   "outputs": [],
   "source": []
  }
 ],
 "metadata": {
  "kernelspec": {
   "display_name": "Python 3",
   "language": "python",
   "name": "python3"
  },
  "language_info": {
   "codemirror_mode": {
    "name": "ipython",
    "version": 3
   },
   "file_extension": ".py",
   "mimetype": "text/x-python",
   "name": "python",
   "nbconvert_exporter": "python",
   "pygments_lexer": "ipython3",
   "version": "3.7.9"
  }
 },
 "nbformat": 4,
 "nbformat_minor": 5
}
